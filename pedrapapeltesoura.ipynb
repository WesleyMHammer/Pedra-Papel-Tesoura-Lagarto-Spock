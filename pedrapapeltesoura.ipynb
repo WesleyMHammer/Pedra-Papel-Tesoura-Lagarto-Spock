{
  "nbformat": 4,
  "nbformat_minor": 0,
  "metadata": {
    "colab": {
      "provenance": []
    },
    "kernelspec": {
      "name": "python3",
      "display_name": "Python 3"
    },
    "language_info": {
      "name": "python"
    }
  },
  "cells": [
    {
      "cell_type": "code",
      "execution_count": 12,
      "metadata": {
        "colab": {
          "base_uri": "https://localhost:8080/"
        },
        "id": "oVa5WSanMdEE",
        "outputId": "2514f6ea-da75-47d8-cbc6-f54ce951cfc3"
      },
      "outputs": [
        {
          "name": "stdout",
          "output_type": "stream",
          "text": [
            "Qual sua escolha?'r' para pedra, 'p' para papel, 's' para tesoura,'l' para lagarto e 'sp' para Spock. Digite 'sair' para encerrar o jogo\n",
            "s\n",
            "Você ganhou!\n",
            "Qual sua escolha?'r' para pedra, 'p' para papel, 's' para tesoura,'l' para lagarto e 'sp' para Spock. Digite 'sair' para encerrar o jogo\n",
            "p\n",
            "Você ganhou!\n",
            "Qual sua escolha?'r' para pedra, 'p' para papel, 's' para tesoura,'l' para lagarto e 'sp' para Spock. Digite 'sair' para encerrar o jogo\n",
            "sp\n",
            "Você ganhou!\n",
            "Qual sua escolha?'r' para pedra, 'p' para papel, 's' para tesoura,'l' para lagarto e 'sp' para Spock. Digite 'sair' para encerrar o jogo\n",
            "r\n",
            "Você ganhou!\n",
            "Qual sua escolha?'r' para pedra, 'p' para papel, 's' para tesoura,'l' para lagarto e 'sp' para Spock. Digite 'sair' para encerrar o jogo\n",
            "l\n",
            "Você ganhou!\n",
            "Qual sua escolha?'r' para pedra, 'p' para papel, 's' para tesoura,'l' para lagarto e 'sp' para Spock. Digite 'sair' para encerrar o jogo\n",
            "r\n",
            "Você ganhou!\n",
            "Qual sua escolha?'r' para pedra, 'p' para papel, 's' para tesoura,'l' para lagarto e 'sp' para Spock. Digite 'sair' para encerrar o jogo\n",
            "r\n",
            "Você ganhou!\n",
            "Qual sua escolha?'r' para pedra, 'p' para papel, 's' para tesoura,'l' para lagarto e 'sp' para Spock. Digite 'sair' para encerrar o jogo\n",
            "r\n",
            "Empate\n",
            "Qual sua escolha?'r' para pedra, 'p' para papel, 's' para tesoura,'l' para lagarto e 'sp' para Spock. Digite 'sair' para encerrar o jogo\n",
            "k\n",
            "opção inválida\n",
            "Qual sua escolha?'r' para pedra, 'p' para papel, 's' para tesoura,'l' para lagarto e 'sp' para Spock. Digite 'sair' para encerrar o jogo\n",
            "sair\n"
          ]
        }
      ],
      "source": [
        "import random\n",
        "pedra = 'r'\n",
        "papel = 'p'\n",
        "tesorura = 's'\n",
        "lagarto = 'l'\n",
        "spock = 'sp'\n",
        "\n",
        "\n",
        "def is_win(player, opponent):\n",
        "\n",
        "  if (player == 's' and opponent == 'p') or (player == 'p' and opponent == 'r') \\\n",
        "   or (player == 'r' and opponent == 'l') or (player == 'l' and opponent == 'sp') \\\n",
        "   or (player == 'sp' and opponent == 's') or (player == 's' and opponent == 'l') \\\n",
        "   or (player == 'l' and opponent == 'p')  or (player == 'p' and opponent == 'sp') \\\n",
        "   or (player == 'sp' and opponent == 'r') or (player == 'r' and opponent == 's'):\n",
        "    return True\n",
        "\n",
        "def invalido(player):\n",
        "\n",
        "  if (player != 'p' ) and (player != 'r' ) and (player != 's' ) \\\n",
        "  and (player != 'l' )and (player != 'sp' ):\n",
        "    return True\n",
        "\n",
        "while True:\n",
        "  user = input(\"Qual sua escolha?'r' para pedra, 'p' para papel, 's' para tesoura,\" \\\n",
        "               \"'l' para lagarto e 'sp' para Spock. Digite 'sair' para encerrar o jogo\\n\")\n",
        "\n",
        "  if user.lower() == 'sair':\n",
        "        break\n",
        "  computer = random.choice(['r', 'p', 's', 'l', 'sp'])\n",
        "\n",
        "  if user == computer:\n",
        "    resultado = 'Empate'\n",
        "  elif is_win(user, computer):\n",
        "    resultado = 'Você ganhou!'\n",
        "  elif invalido(user):\n",
        "    resultado = 'opção inválida'\n",
        "  else:\n",
        "    resultado = 'Você perdeu!'\n",
        "\n",
        "  print(resultado)\n",
        "\n"
      ]
    }
  ]
}